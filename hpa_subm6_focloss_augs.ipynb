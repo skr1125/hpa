{
  "nbformat": 4,
  "nbformat_minor": 0,
  "metadata": {
    "kernelspec": {
      "language": "python",
      "display_name": "Python 3",
      "name": "python3"
    },
    "language_info": {
      "pygments_lexer": "ipython3",
      "nbconvert_exporter": "python",
      "version": "3.6.4",
      "file_extension": ".py",
      "codemirror_mode": {
        "name": "ipython",
        "version": 3
      },
      "name": "python",
      "mimetype": "text/x-python"
    },
    "colab": {
      "name": "hpa-subm6-focloss-augs.ipynb",
      "provenance": [],
      "collapsed_sections": []
    }
  },
  "cells": [
    {
      "cell_type": "code",
      "metadata": {
        "_uuid": "8f2839f25d086af736a60e9eeb907d3b93b6e0e5",
        "_cell_guid": "b1076dfc-b9ad-4769-8c92-a6c4dae69d19",
        "trusted": true,
        "id": "NydB3KUx8IXE",
        "colab_type": "code",
        "colab": {}
      },
      "source": [
        "# This Python 3 environment comes with many helpful analytics libraries installed\n",
        "# It is defined by the kaggle/python docker image: https://github.com/kaggle/docker-python\n",
        "# For example, here's several helpful packages to load in \n",
        "\n",
        "#import numpy as np # linear algebra\n",
        "#import pandas as pd # data processing, CSV file I/O (e.g. pd.read_csv)\n",
        "\n",
        "# Input data files are available in the \"../input/\" directory.\n",
        "# For example, running this (by clicking run or pressing Shift+Enter) will list all files under the input directory\n",
        "\n",
        "#import os\n",
        "#for dirname, _, filenames in os.walk('/kaggle/input'):\n",
        "#    for filename in filenames:\n",
        "#        print(os.path.join(dirname, filename))\n",
        "\n",
        "# Any results you write to the current directory are saved as output."
      ],
      "execution_count": 0,
      "outputs": []
    },
    {
      "cell_type": "markdown",
      "metadata": {
        "id": "CRLayWSV8IXN",
        "colab_type": "text"
      },
      "source": [
        "Essentially a simplified, modified version of tinkertytonk project - so credit to him"
      ]
    },
    {
      "cell_type": "code",
      "metadata": {
        "_uuid": "d629ff2d2480ee46fbb7e2d37f6b5fab8052498a",
        "_cell_guid": "79c7e3d0-c299-4dcb-8224-4455121ee9b0",
        "trusted": true,
        "id": "HnFCXs_a8IXO",
        "colab_type": "code",
        "colab": {}
      },
      "source": [
        "!pip install kaggle --upgrade -q"
      ],
      "execution_count": 0,
      "outputs": []
    },
    {
      "cell_type": "code",
      "metadata": {
        "trusted": true,
        "id": "giW9vSd78IXT",
        "colab_type": "code",
        "colab": {}
      },
      "source": [
        "import os\n",
        "import gc\n",
        "import numpy as np\n",
        "# import jovian\n",
        "import cv2\n",
        "\n",
        "import torch\n",
        "import torch.nn as nn\n",
        "import torch.nn.functional as F\n",
        "import torchvision\n",
        "\n",
        "from fastai import *\n",
        "from fastai.vision import *\n",
        "from fastai.metrics import accuracy, error_rate\n",
        "from fastai.callbacks import *\n",
        "\n",
        "from sklearn.metrics import f1_score\n",
        "\n",
        "from PIL import Image\n",
        "from tqdm.notebook import tqdm \n",
        "from pathlib import Path"
      ],
      "execution_count": 0,
      "outputs": []
    },
    {
      "cell_type": "markdown",
      "metadata": {
        "id": "FTxStS_t8IXY",
        "colab_type": "text"
      },
      "source": [
        "Setup Kaggle API Key"
      ]
    },
    {
      "cell_type": "code",
      "metadata": {
        "trusted": true,
        "id": "ETxr7pX58IXZ",
        "colab_type": "code",
        "colab": {}
      },
      "source": [
        "os.environ['KAGGLE_USERNAME']=\"skr1125\"\n",
        "os.environ['KAGGLE_KEY']=\"\""
      ],
      "execution_count": 0,
      "outputs": []
    },
    {
      "cell_type": "code",
      "metadata": {
        "trusted": true,
        "id": "vBfmr2ED8IXd",
        "colab_type": "code",
        "colab": {}
      },
      "source": [
        "!pwd"
      ],
      "execution_count": 0,
      "outputs": []
    },
    {
      "cell_type": "code",
      "metadata": {
        "trusted": true,
        "id": "KdfaI7eX8IXh",
        "colab_type": "code",
        "colab": {}
      },
      "source": [
        "!ls ../input"
      ],
      "execution_count": 0,
      "outputs": []
    },
    {
      "cell_type": "code",
      "metadata": {
        "trusted": true,
        "id": "-Shh1Rh68IXq",
        "colab_type": "code",
        "colab": {}
      },
      "source": [
        "# setting up paths for use in the notebook\n",
        "PATH = '../input/human-protein-atlas-image-classification/'\n",
        "TRAIN = '../input/human-protein-atlas-image-classification/train/'\n",
        "TEST =  '../input/human-protein-atlas-image-classification/test/'\n",
        "LABELS = '../input/human-protein-atlas-image-classification/train.csv'\n",
        "path_working = Path('/kaggle/working')"
      ],
      "execution_count": 0,
      "outputs": []
    },
    {
      "cell_type": "code",
      "metadata": {
        "trusted": true,
        "id": "_EuhwM-t8IXu",
        "colab_type": "code",
        "colab": {}
      },
      "source": [
        "channels4 = ['_yellow', '_red', '_green_', '_blue']\n",
        "channels3 = ['_red', '_green', '_blue']"
      ],
      "execution_count": 0,
      "outputs": []
    },
    {
      "cell_type": "code",
      "metadata": {
        "trusted": true,
        "id": "0ddyU2oV8IXy",
        "colab_type": "code",
        "colab": {}
      },
      "source": [
        "index_class_dict = {\n",
        "0:  'Nucleoplasm',\n",
        "1:  'Nuclear membrane',\n",
        "2:  'Nucleoli',   \n",
        "3:  'Nucleoli fibrillar center',\n",
        "4:  'Nuclear speckles',\n",
        "5:  'Nuclear bodies',\n",
        "6:  'Endoplasmic reticulum',   \n",
        "7:  'Golgi apparatus',\n",
        "8:  'Peroxisomes',\n",
        "9:  'Endosomes',\n",
        "10:  'Lysosomes',\n",
        "11:  'Intermediate filaments',\n",
        "12:  'Actin filaments',\n",
        "13:  'Focal adhesion sites',   \n",
        "14:  'Microtubules',\n",
        "15:  'Microtubule ends',  \n",
        "16:  'Cytokinetic bridge',   \n",
        "17:  'Mitotic spindle',\n",
        "18:  'Microtubule organizing center',  \n",
        "19:  'Centrosome',\n",
        "20:  'Lipid droplets',\n",
        "21:  'Plasma membrane',   \n",
        "22:  'Cell junctions', \n",
        "23:  'Mitochondria',\n",
        "24:  'Aggresome',\n",
        "25:  'Cytosol',\n",
        "26:  'Cytoplasmic bodies',   \n",
        "27:  'Rods & rings' }"
      ],
      "execution_count": 0,
      "outputs": []
    },
    {
      "cell_type": "markdown",
      "metadata": {
        "id": "CA0CFVxY8IX3",
        "colab_type": "text"
      },
      "source": [
        "The following two cells are really NOT needed for the process of visualizing or conducting the training. Just an illustration to show the file and process it into a one hot vector of structures present in the training images."
      ]
    },
    {
      "cell_type": "code",
      "metadata": {
        "trusted": true,
        "id": "cR4lmz6-8IX4",
        "colab_type": "code",
        "colab": {}
      },
      "source": [
        "# Read the training data so that the cell id and the structures they contain (as strings) can be seen in the Target field\n",
        "train_df = pd.read_csv(LABELS) # see LABELS definition above\n",
        "train_df.head()"
      ],
      "execution_count": 0,
      "outputs": []
    },
    {
      "cell_type": "code",
      "metadata": {
        "trusted": true,
        "id": "o19cUz618IX8",
        "colab_type": "code",
        "colab": {}
      },
      "source": [
        "# next convert the whole thing into a one hot vector coding as well \n",
        "for i in range(28):\n",
        "    train_df[f'{index_class_dict[i]}'] = train_df['Target'].map(lambda x:1 if str(i) in x.strip().split() else 0)\n",
        "train_df.head()"
      ],
      "execution_count": 0,
      "outputs": []
    },
    {
      "cell_type": "markdown",
      "metadata": {
        "id": "rbRVhMx58IYA",
        "colab_type": "text"
      },
      "source": [
        "The cells below need to be repeated for the 4 channel case. I am trying this first for a simple 3 channel model"
      ]
    },
    {
      "cell_type": "code",
      "metadata": {
        "trusted": true,
        "id": "6d3WHb9v8IYB",
        "colab_type": "code",
        "colab": {}
      },
      "source": [
        "# Suppose we only use the rgb values provided initially and IGNORE the y values, so only 3 channels \n",
        "# We will try 4 channels after that - remember to initialize y value with avg of other 3 NOT zeros\n",
        "# import Fastai vision to get their Image class\n",
        "from fastai.vision.image import *\n",
        "\n",
        "# taken from : https://github.com/wdhorton/protein-atlas-fastai/blob/master/utils.py\n",
        "# discussion : https://www.kaggle.com/c/human-protein-atlas-image-classification/discussion/71039\n",
        "# adapted from https://www.kaggle.com/iafoss/pretrained-resnet34-with-rgby-0-460-public-lb\n",
        "def open_3_channel(fname):\n",
        "    fname = str(fname)\n",
        "    # strip extension before adding color\n",
        "    if fname.endswith('.png'):\n",
        "        fname = fname[:-4]\n",
        "    # SKR: colors below changed to only be 3 colors red, green, blue \n",
        "    # SKR: IGNORING YELLOW for now\n",
        "    #colors = ['red','green','blue','yellow']\n",
        "    colors = ['red', 'green', 'blue']\n",
        "    flags = cv2.IMREAD_GRAYSCALE\n",
        "    \n",
        "    img = [cv2.imread(fname+'_'+color+'.png', flags).astype(np.float32)/255\n",
        "           for color in colors]\n",
        "    \n",
        "    # convert from a [512,512,4] tensor to a [4,512,512] tensor\n",
        "    # convert from a [512, 512, 3] tensor to a [3, 512, 512] tensor\n",
        "    x = np.stack(img, axis=-1)    \n",
        "    \n",
        "    # create a Fastai image from the tensor\n",
        "    return Image(pil2tensor(x, np.float32).float())"
      ],
      "execution_count": 0,
      "outputs": []
    },
    {
      "cell_type": "markdown",
      "metadata": {
        "id": "ESiF8dbs8IYE",
        "colab_type": "text"
      },
      "source": [
        "Create the DataBunch. Here another approach could be to size the images to be 224 x 224 above and train the model first \n",
        "THEN train the model on 512 x 512 images and use that model to predict. "
      ]
    },
    {
      "cell_type": "code",
      "metadata": {
        "trusted": true,
        "id": "nQspch4X8IYF",
        "colab_type": "code",
        "colab": {}
      },
      "source": [
        "bs=16\n",
        "size=512"
      ],
      "execution_count": 0,
      "outputs": []
    },
    {
      "cell_type": "code",
      "metadata": {
        "trusted": true,
        "id": "wyYZVicw8IYJ",
        "colab_type": "code",
        "colab": {}
      },
      "source": [
        "# read submission file to get the names of test images\n",
        "test_df = pd.read_csv(PATH + 'sample_submission.csv')\n",
        "test_df.head()"
      ],
      "execution_count": 0,
      "outputs": []
    },
    {
      "cell_type": "code",
      "metadata": {
        "trusted": true,
        "id": "uiOXj-lx8IYP",
        "colab_type": "code",
        "colab": {}
      },
      "source": [
        "np.random.seed(230)"
      ],
      "execution_count": 0,
      "outputs": []
    },
    {
      "cell_type": "code",
      "metadata": {
        "trusted": true,
        "id": "fjIXoXBB8IYS",
        "colab_type": "code",
        "colab": {}
      },
      "source": [
        "PATH"
      ],
      "execution_count": 0,
      "outputs": []
    },
    {
      "cell_type": "code",
      "metadata": {
        "trusted": true,
        "id": "FJV5pt_R8IYV",
        "colab_type": "code",
        "colab": {}
      },
      "source": [
        "test = ImageList.from_df(test_df, PATH, folder='test', suffix='.png')"
      ],
      "execution_count": 0,
      "outputs": []
    },
    {
      "cell_type": "code",
      "metadata": {
        "trusted": true,
        "id": "2YjT2vW-8IYY",
        "colab_type": "code",
        "colab": {}
      },
      "source": [
        "src = (ImageList.from_df(train_df, PATH, folder='train', suffix='.png')\n",
        "                .split_by_rand_pct(0.2)\n",
        "                .label_from_df(cols='Target', label_delim=' ')\n",
        "                .add_test(test))"
      ],
      "execution_count": 0,
      "outputs": []
    },
    {
      "cell_type": "code",
      "metadata": {
        "trusted": true,
        "id": "gnV0X3hR8IYc",
        "colab_type": "code",
        "colab": {}
      },
      "source": [
        "src.train.x.create_func = open_3_channel\n",
        "src.train.x.open = open_3_channel\n",
        "\n",
        "src.valid.x.create_func = open_3_channel\n",
        "src.valid.x.open = open_3_channel"
      ],
      "execution_count": 0,
      "outputs": []
    },
    {
      "cell_type": "code",
      "metadata": {
        "trusted": true,
        "id": "wsJceJSA8IYg",
        "colab_type": "code",
        "colab": {}
      },
      "source": [
        "src.test.x.create_func = open_3_channel\n",
        "src.test.x.open = open_3_channel"
      ],
      "execution_count": 0,
      "outputs": []
    },
    {
      "cell_type": "code",
      "metadata": {
        "trusted": true,
        "id": "GA1zl1v_8IYp",
        "colab_type": "code",
        "colab": {}
      },
      "source": [
        "# 4 channel protein stats - going to only 3 channel stats\n",
        "# protein_stats = ([0.08069, 0.05258, 0.05487, 0.08282], [0.13704, 0.10145, 0.15313, 0.13814])\n",
        "protein_stats = ([0.08069, 0.05258, 0.05487], [0.13704, 0.10145, 0.15313])"
      ],
      "execution_count": 0,
      "outputs": []
    },
    {
      "cell_type": "markdown",
      "metadata": {
        "id": "c6kDtAVmDfEi",
        "colab_type": "text"
      },
      "source": [
        "Adding transforms here using\n",
        "get_transforms(do_flip:bool=True, flip_vert:bool=False, max_rotate:float=10.0, max_zoom:float=1.1, max_lighting:float=0.2, max_warp:float=0.2, p_affine:float=0.75, p_lighting:float=0.75, xtra_tfms:Optional[Collection[Transform]]=None) → Collection[Transform]"
      ]
    },
    {
      "cell_type": "code",
      "metadata": {
        "trusted": true,
        "id": "6rfxZgZ3DfEj",
        "colab_type": "code",
        "colab": {}
      },
      "source": [
        "trn_tfms,_ = get_transforms(do_flip=True, flip_vert=True, max_rotate=30.0, max_zoom=1.1, max_lighting=0.2, max_warp=0.1, p_affine=0.5, p_lighting=0.5)"
      ],
      "execution_count": 0,
      "outputs": []
    },
    {
      "cell_type": "code",
      "metadata": {
        "trusted": true,
        "id": "i2Hysy3c8IYv",
        "colab_type": "code",
        "colab": {}
      },
      "source": [
        "# create databunch after using bs and applying transforms and normalizing using protein stats \n",
        "# data = src.databunch(bs=bs, dl_tfms=tfms).normalize(protein_stats)\n",
        "data = (src.transform((trn_tfms, _), size=512)\n",
        "        .databunch(bs=16).normalize(protein_stats))"
      ],
      "execution_count": 0,
      "outputs": []
    },
    {
      "cell_type": "code",
      "metadata": {
        "trusted": true,
        "id": "OPiRt0X-DfEp",
        "colab_type": "code",
        "colab": {}
      },
      "source": [
        "type(data)"
      ],
      "execution_count": 0,
      "outputs": []
    },
    {
      "cell_type": "code",
      "metadata": {
        "trusted": true,
        "id": "g6KK6fw68IYy",
        "colab_type": "code",
        "colab": {}
      },
      "source": [
        "data.show_batch(rows=3, figsize=(12,9))"
      ],
      "execution_count": 0,
      "outputs": []
    },
    {
      "cell_type": "code",
      "metadata": {
        "trusted": true,
        "id": "lWZifJSW8IY2",
        "colab_type": "code",
        "colab": {}
      },
      "source": [
        "data.c"
      ],
      "execution_count": 0,
      "outputs": []
    },
    {
      "cell_type": "code",
      "metadata": {
        "trusted": true,
        "id": "wHxH_u-A8IY5",
        "colab_type": "code",
        "colab": {}
      },
      "source": [
        "arch = models.resnet34"
      ],
      "execution_count": 0,
      "outputs": []
    },
    {
      "cell_type": "markdown",
      "metadata": {
        "id": "1O4f4ODA8IY9",
        "colab_type": "text"
      },
      "source": [
        "This should be modified to be different metrics as per competition spec"
      ]
    },
    {
      "cell_type": "code",
      "metadata": {
        "trusted": true,
        "id": "qzczmzZz8IY_",
        "colab_type": "code",
        "colab": {}
      },
      "source": [
        "acc_02 = partial(accuracy_thresh, thresh=0.2)"
      ],
      "execution_count": 0,
      "outputs": []
    },
    {
      "cell_type": "markdown",
      "metadata": {
        "id": "3_OYbEbQJlLa",
        "colab_type": "text"
      },
      "source": [
        "Check what the fbeta with thresh 0.2 gives for f_score and its relationship to definition of F1 score "
      ]
    },
    {
      "cell_type": "code",
      "metadata": {
        "trusted": true,
        "id": "CzL5fej38IZC",
        "colab_type": "code",
        "colab": {}
      },
      "source": [
        "# Continue to use this as well\n",
        "f_score = partial(fbeta, thresh=0.2)"
      ],
      "execution_count": 0,
      "outputs": []
    },
    {
      "cell_type": "markdown",
      "metadata": {
        "id": "wdj3p5mOF8BI",
        "colab_type": "text"
      },
      "source": [
        "Trying to define a F1 class for accumulating stats on each batch and calculating F1 score for entire val dataset. \n",
        "References:\n",
        "https://www.kaggle.com/iafoss/pretrained-resnet34-with-rgby-0-460-public-lb\n",
        "https://www.kaggle.com/rejpalcz/best-loss-function-for-f1-score-metric\n",
        "https://www.kaggle.com/guglielmocamporese/macro-f1-score-keras\n",
        "https://gist.github.com/SuperShinyEyes/dcc68a08ff8b615442e3bc6a9b55a354\n",
        "\n",
        "So generate a metric F1 and a loss which correlates with the F1 metric and use them in the learner. \n"
      ]
    },
    {
      "cell_type": "code",
      "metadata": {
        "id": "Q9YfTsvZGiy1",
        "colab_type": "code",
        "trusted": true,
        "colab": {}
      },
      "source": [
        "# Am able to get the focal loss piece working but \n",
        "# Am not able to get the F1 macro metric working nor the F1 macro loss\n",
        "\n",
        "\n",
        "class F1:\n",
        "  \n",
        "  __name__ = 'F1 macro'\n",
        "\n",
        "  def __init__(self, n=28):\n",
        "    self.n = n\n",
        "    self.TP = torch.zeros(self.n)\n",
        "    self.FP = torch.zeros(self.n)\n",
        "    self.FN = torch.zeros(self.n)\n",
        "\n",
        "  def __call__(self, preds, targs, thresh=0.2):\n",
        "    preds = (preds > thresh).int() # Check whether this matters if it is NOT float\n",
        "    targs = targs.int()\n",
        "    self.TP += (preds*targs).float().sum(dim=0)\n",
        "    self.FP += (preds > targs).float().sum(dim=0)\n",
        "    self.FN += (preds < targs).float().sum(dim=0)\n",
        "    score = (2.0 * self.TP/(2.0 * self.TP + self.FP + self.FN + 1e-6)).mean()\n",
        "    return score\n",
        "\n",
        "  def reset(self):\n",
        "    score = (2.0 * self.TP/(2.0 * self.TP + self.FP + self.FN + 1e-6))\n",
        "    print('F1 macro:', score.mean(), flush=True)\n",
        "    self.TP = np.zeros(self.n)\n",
        "    self.FP = np.zeros(self.n)\n",
        "    self.FN = np.zeros(self.n)\n",
        "\n",
        "class F1_callback(Callback):\n",
        "  def __init__(self, n=28):\n",
        "    self.f1 = F1(n)\n",
        "\n",
        "  def on_epoch_end(self, metrics):\n",
        "    self.f1.reset()\n",
        "\n",
        "class F1_Loss(nn.Module):\n",
        "\n",
        "  def __init__(self, n=28):\n",
        "    self.n = n\n",
        "    self.TP = torch.zeros(self.n)\n",
        "    self.FP = torch.zeros(self.n)\n",
        "    self.FN = torch.zeros(self.n)\n",
        "\n",
        "  def forward(self, preds, targs, thresh=0.2):\n",
        "    preds = (preds > thresh).int() # Check whether this matters if it is NOT float\n",
        "    targs = targs.int()\n",
        "    self.TP += (preds*targs).float().sum(dim=0)\n",
        "    self.FP += (preds > targs).float().sum(dim=0)\n",
        "    self.FN += (preds < targs).float().sum(dim=0)\n",
        "    score = (2.0 * self.TP/(2.0 * self.TP + self.FP + self.FN + 1e-6))\n",
        "    # need this to keep score from becoming too small or too big\n",
        "    score = score.clamp(min=1e-6, max= 1 - 1e-6)\n",
        "    return 1 - score.mean()\n",
        "\n",
        "# Do we need this - commenting it out at first\n",
        "# f1_loss = F1_Loss().cuda()\n",
        "\n",
        "def focal_loss(input, target, reduction='mean', beta=0.5, gamma=2., eps=1e-7, **kwargs):\n",
        "    n = input.size(0)\n",
        "    iflat = torch.sigmoid(input).view(n, -1).clamp(eps, 1-eps)\n",
        "    tflat = target.view(n, -1)\n",
        "    focal = -(beta*tflat*(1-iflat).pow(gamma)*iflat.log() + \n",
        "             (1-beta)*(1-tflat)*iflat.pow(gamma)*(1-iflat).log()).mean(-1)\n",
        "    if torch.isnan(focal.mean()) or torch.isinf(focal.mean()):\n",
        "        pdb.set_trace()\n",
        "    if reduction == 'mean':\n",
        "        return focal.mean()\n",
        "    elif reduction == 'sum':\n",
        "        return focal.sum()\n",
        "    else:\n",
        "        return focal\n",
        "    \n",
        "class FocalLoss(nn.Module):\n",
        "    def __init__(self, beta=0.5, gamma=2., reduction='mean'):\n",
        "        super().__init__()\n",
        "        self.beta = beta\n",
        "        self.gamma = gamma\n",
        "        self.reduction = reduction\n",
        "        \n",
        "    def forward(self, input, target, **kwargs):\n",
        "        focal = focal_loss(input, target, beta=self.beta, gamma=self.gamma, reduction=self.reduction, **kwargs)\n",
        "        return focal\n"
      ],
      "execution_count": 0,
      "outputs": []
    },
    {
      "cell_type": "code",
      "metadata": {
        "trusted": true,
        "id": "Rcf9tVMw8IZH",
        "colab_type": "code",
        "colab": {}
      },
      "source": [
        "# learn = cnn_learner(data, arch, metrics=[acc_02, f_score])\n",
        "# modifying above to only give it data and arch\n",
        "learn = cnn_learner(data, arch)"
      ],
      "execution_count": 0,
      "outputs": []
    },
    {
      "cell_type": "code",
      "metadata": {
        "id": "nzMk193mkQOB",
        "colab_type": "code",
        "trusted": true,
        "colab": {}
      },
      "source": [
        "# Do we need F1_loss.cuda() here \n",
        "# Trying it with cuda first did not work so switched\n",
        "# That did not work so trying with Focal_Loss first\n",
        "# learn.loss_func = F1_Loss()\n",
        "learn.loss_func = FocalLoss()"
      ],
      "execution_count": 0,
      "outputs": []
    },
    {
      "cell_type": "code",
      "metadata": {
        "id": "YBK3MHUKkvW6",
        "colab_type": "code",
        "trusted": true,
        "colab": {}
      },
      "source": [
        "f1_callback = F1_callback()\n",
        "learn.metrics = [acc_02, f1_callback.f1]"
      ],
      "execution_count": 0,
      "outputs": []
    },
    {
      "cell_type": "code",
      "metadata": {
        "id": "RGhg34FdlNVX",
        "colab_type": "code",
        "trusted": true,
        "colab": {}
      },
      "source": [
        "learn.summary()"
      ],
      "execution_count": 0,
      "outputs": []
    },
    {
      "cell_type": "markdown",
      "metadata": {
        "id": "pKHkF11k8IZO",
        "colab_type": "text"
      },
      "source": [
        "Need to set learn.model_dir attribute in Learner to a full libpath path that is writable and so "
      ]
    },
    {
      "cell_type": "code",
      "metadata": {
        "trusted": true,
        "id": "i5VlYAOP8IZR",
        "colab_type": "code",
        "colab": {}
      },
      "source": [
        "learn.model_dir = path_working "
      ],
      "execution_count": 0,
      "outputs": []
    },
    {
      "cell_type": "code",
      "metadata": {
        "trusted": true,
        "id": "MfJI6tBa8IZV",
        "colab_type": "code",
        "colab": {}
      },
      "source": [
        "path_working"
      ],
      "execution_count": 0,
      "outputs": []
    },
    {
      "cell_type": "code",
      "metadata": {
        "trusted": true,
        "id": "czWUpOhN8IZa",
        "colab_type": "code",
        "colab": {}
      },
      "source": [
        "learn.model_dir = path_working"
      ],
      "execution_count": 0,
      "outputs": []
    },
    {
      "cell_type": "code",
      "metadata": {
        "trusted": true,
        "id": "tclS8eCO8IZd",
        "colab_type": "code",
        "colab": {}
      },
      "source": [
        "learn.model_dir"
      ],
      "execution_count": 0,
      "outputs": []
    },
    {
      "cell_type": "code",
      "metadata": {
        "trusted": true,
        "id": "rmQbNbun8IZi",
        "colab_type": "code",
        "colab": {}
      },
      "source": [
        "learn.lr_find()"
      ],
      "execution_count": 0,
      "outputs": []
    },
    {
      "cell_type": "code",
      "metadata": {
        "trusted": true,
        "id": "hVHjfuI68IZm",
        "colab_type": "code",
        "colab": {}
      },
      "source": [
        "learn.recorder.plot()"
      ],
      "execution_count": 0,
      "outputs": []
    },
    {
      "cell_type": "code",
      "metadata": {
        "trusted": true,
        "id": "Qal923bT8IZt",
        "colab_type": "code",
        "colab": {}
      },
      "source": [
        "lr = 3e-2 "
      ],
      "execution_count": 0,
      "outputs": []
    },
    {
      "cell_type": "code",
      "metadata": {
        "trusted": true,
        "id": "6qHUPlPA8IZy",
        "colab_type": "code",
        "colab": {}
      },
      "source": [
        "learn.fit_one_cycle(5, slice(lr))"
      ],
      "execution_count": 0,
      "outputs": []
    },
    {
      "cell_type": "code",
      "metadata": {
        "trusted": true,
        "id": "qqwKqTqYciN6",
        "colab_type": "code",
        "colab": {}
      },
      "source": [
        "# not executing as running out of gpu for this week \n",
        "# learn.fit_one_cycle(5, slice(lr))"
      ],
      "execution_count": 0,
      "outputs": []
    },
    {
      "cell_type": "code",
      "metadata": {
        "trusted": true,
        "id": "hrt5CliX8IZ2",
        "colab_type": "code",
        "colab": {}
      },
      "source": [
        "learn.save('stage1-rn34-3chaugs-focloss')"
      ],
      "execution_count": 0,
      "outputs": []
    },
    {
      "cell_type": "code",
      "metadata": {
        "trusted": true,
        "id": "PehE6Zzo8IZ4",
        "colab_type": "code",
        "colab": {}
      },
      "source": [
        "learn.unfreeze()"
      ],
      "execution_count": 0,
      "outputs": []
    },
    {
      "cell_type": "code",
      "metadata": {
        "trusted": true,
        "id": "Es0XXigV8IZ9",
        "colab_type": "code",
        "colab": {}
      },
      "source": [
        "learn.lr_find()"
      ],
      "execution_count": 0,
      "outputs": []
    },
    {
      "cell_type": "code",
      "metadata": {
        "trusted": true,
        "id": "NYiara5h8IaC",
        "colab_type": "code",
        "colab": {}
      },
      "source": [
        "learn.recorder.plot()"
      ],
      "execution_count": 0,
      "outputs": []
    },
    {
      "cell_type": "code",
      "metadata": {
        "trusted": true,
        "id": "UfddcB618IaG",
        "colab_type": "code",
        "colab": {}
      },
      "source": [
        "# reducing cycles to fit GPU Quota\n",
        "learn.fit_one_cycle(2, slice(1e-5, lr/5))"
      ],
      "execution_count": 0,
      "outputs": []
    },
    {
      "cell_type": "code",
      "metadata": {
        "trusted": true,
        "id": "hBv0hfVQ8IaJ",
        "colab_type": "code",
        "colab": {}
      },
      "source": [
        "learn.save('stage2-rn34-3chaugs-focloss')"
      ],
      "execution_count": 0,
      "outputs": []
    },
    {
      "cell_type": "markdown",
      "metadata": {
        "id": "3-y-FgCnDfGB",
        "colab_type": "text"
      },
      "source": [
        "Try below with test time augmentation - so learner.TTA(DatasetType.Test, beta=0.4, scale=1.35)"
      ]
    },
    {
      "cell_type": "code",
      "metadata": {
        "trusted": true,
        "id": "UPstk5Gy8IaN",
        "colab_type": "code",
        "colab": {}
      },
      "source": [
        "#preds, _ = learn.get_preds(DatasetType.Test)\n",
        "preds, _ = learn.TTA(ds_type=DatasetType.Test, beta=0.4, scale=1.35)"
      ],
      "execution_count": 0,
      "outputs": []
    },
    {
      "cell_type": "code",
      "metadata": {
        "trusted": true,
        "id": "Vwxl42af8IaZ",
        "colab_type": "code",
        "colab": {}
      },
      "source": [
        "type(preds)"
      ],
      "execution_count": 0,
      "outputs": []
    },
    {
      "cell_type": "code",
      "metadata": {
        "trusted": true,
        "id": "cfRKFeRd8Iad",
        "colab_type": "code",
        "colab": {}
      },
      "source": [
        "preds.shape"
      ],
      "execution_count": 0,
      "outputs": []
    },
    {
      "cell_type": "code",
      "metadata": {
        "trusted": true,
        "id": "9CXW5GXq8Iag",
        "colab_type": "code",
        "colab": {}
      },
      "source": [
        "type(learn.data.classes)"
      ],
      "execution_count": 0,
      "outputs": []
    },
    {
      "cell_type": "code",
      "metadata": {
        "trusted": true,
        "id": "TXMS0VTq8Iai",
        "colab_type": "code",
        "colab": {}
      },
      "source": [
        "len(learn.data.classes)"
      ],
      "execution_count": 0,
      "outputs": []
    },
    {
      "cell_type": "code",
      "metadata": {
        "trusted": true,
        "id": "OF4tXgmu8Ial",
        "colab_type": "code",
        "colab": {}
      },
      "source": [
        "thresh = 0.2\n",
        "labelled_preds = [' '.join([learn.data.classes[i] for i,p in enumerate(pred) if p > thresh]) for pred in preds]"
      ],
      "execution_count": 0,
      "outputs": []
    },
    {
      "cell_type": "code",
      "metadata": {
        "trusted": true,
        "id": "N5DQKofb8Iao",
        "colab_type": "code",
        "colab": {}
      },
      "source": [
        "len(labelled_preds)"
      ],
      "execution_count": 0,
      "outputs": []
    },
    {
      "cell_type": "code",
      "metadata": {
        "trusted": true,
        "id": "4N_IkmHk8Ias",
        "colab_type": "code",
        "colab": {}
      },
      "source": [
        "labelled_preds[:5]"
      ],
      "execution_count": 0,
      "outputs": []
    },
    {
      "cell_type": "code",
      "metadata": {
        "trusted": true,
        "id": "dzfeZNvK8Iav",
        "colab_type": "code",
        "colab": {}
      },
      "source": [
        "learn.data.test_ds.items[0]"
      ],
      "execution_count": 0,
      "outputs": []
    },
    {
      "cell_type": "code",
      "metadata": {
        "trusted": true,
        "id": "08R33jB-8Ia2",
        "colab_type": "code",
        "colab": {}
      },
      "source": [
        "Path(learn.data.test_ds.items[0]).stem"
      ],
      "execution_count": 0,
      "outputs": []
    },
    {
      "cell_type": "code",
      "metadata": {
        "trusted": true,
        "id": "5U5F8vP18Ia9",
        "colab_type": "code",
        "colab": {}
      },
      "source": [
        "# converting image path strings to the file name only with no extension\n",
        "fnames = [Path(f).stem for f in learn.data.test_ds.items]"
      ],
      "execution_count": 0,
      "outputs": []
    },
    {
      "cell_type": "code",
      "metadata": {
        "trusted": true,
        "id": "_tJSr6yO8IbC",
        "colab_type": "code",
        "colab": {}
      },
      "source": [
        "sample_list = list(test_df.Id)\n",
        "# sample_list[:5]\n",
        "pred_dict = dict((key, value) for (key, value) in zip(fnames, labelled_preds))\n",
        "pred_list_cor = [pred_dict[id] for id in sample_list]\n",
        "df = pd.DataFrame({'ID':sample_list, 'Predicted':pred_list_cor})\n",
        "df.to_csv('protein_classification.csv', header=True, index=False)"
      ],
      "execution_count": 0,
      "outputs": []
    },
    {
      "cell_type": "code",
      "metadata": {
        "trusted": true,
        "id": "vuaFwKFS8IbF",
        "colab_type": "code",
        "colab": {}
      },
      "source": [
        "df.head()"
      ],
      "execution_count": 0,
      "outputs": []
    },
    {
      "cell_type": "code",
      "metadata": {
        "trusted": true,
        "id": "E7N7CNNl8IbI",
        "colab_type": "code",
        "colab": {}
      },
      "source": [
        "# Submit\n",
        "!kaggle competitions submit -c human-protein-atlas-image-classification -f protein_classification.csv -m \"FocalLoss 3chAugs\"\n",
        "\n",
        "# View results\n",
        "!kaggle competitions submissions -c human-protein-atlas-image-classification > results.txt"
      ],
      "execution_count": 0,
      "outputs": []
    },
    {
      "cell_type": "code",
      "metadata": {
        "trusted": true,
        "id": "2M97LNrP8IbK",
        "colab_type": "code",
        "colab": {}
      },
      "source": [
        "!ls results.txt"
      ],
      "execution_count": 0,
      "outputs": []
    },
    {
      "cell_type": "code",
      "metadata": {
        "trusted": true,
        "id": "DkdC3Yij8IbN",
        "colab_type": "code",
        "colab": {}
      },
      "source": [
        "!cat results.txt"
      ],
      "execution_count": 0,
      "outputs": []
    },
    {
      "cell_type": "code",
      "metadata": {
        "trusted": true,
        "id": "LBxk39gz8IbS",
        "colab_type": "code",
        "colab": {}
      },
      "source": [
        ""
      ],
      "execution_count": 0,
      "outputs": []
    },
    {
      "cell_type": "code",
      "metadata": {
        "trusted": true,
        "id": "nc81azP38IbU",
        "colab_type": "code",
        "colab": {}
      },
      "source": [
        ""
      ],
      "execution_count": 0,
      "outputs": []
    },
    {
      "cell_type": "code",
      "metadata": {
        "trusted": true,
        "id": "g8ppG7dS8Ibb",
        "colab_type": "code",
        "colab": {}
      },
      "source": [
        ""
      ],
      "execution_count": 0,
      "outputs": []
    },
    {
      "cell_type": "code",
      "metadata": {
        "trusted": true,
        "id": "tgiTerM28Ibd",
        "colab_type": "code",
        "colab": {}
      },
      "source": [
        ""
      ],
      "execution_count": 0,
      "outputs": []
    },
    {
      "cell_type": "code",
      "metadata": {
        "trusted": true,
        "id": "C-cwfmSL8Ibg",
        "colab_type": "code",
        "colab": {}
      },
      "source": [
        ""
      ],
      "execution_count": 0,
      "outputs": []
    }
  ]
}